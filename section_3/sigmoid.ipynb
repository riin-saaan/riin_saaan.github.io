{
  "nbformat": 4,
  "nbformat_minor": 0,
  "metadata": {
    "colab": {
      "name": "sigmoid.ipynb",
      "provenance": [],
      "collapsed_sections": [],
      "include_colab_link": true
    },
    "kernelspec": {
      "name": "python3",
      "display_name": "Python 3"
    }
  },
  "cells": [
    {
      "cell_type": "markdown",
      "metadata": {
        "id": "view-in-github",
        "colab_type": "text"
      },
      "source": [
        "<a href=\"https://colab.research.google.com/github/riin-saaan/riin_saaan.github.io/blob/main/section_3/sigmoid.ipynb\" target=\"_parent\"><img src=\"https://colab.research.google.com/assets/colab-badge.svg\" alt=\"Open In Colab\"/></a>"
      ]
    },
    {
      "cell_type": "markdown",
      "metadata": {
        "id": "Hw-jVS92MMex"
      },
      "source": [
        "# シグモイド関数\n",
        "機械学習では、**シグモイド関数**というネイピア数を用いた関数がよく使われます。  "
      ]
    },
    {
      "cell_type": "markdown",
      "metadata": {
        "id": "0KtONWBvvW1x"
      },
      "source": [
        "## ● シグモイド関数\n",
        "シグモイド関数は以下の数式で表されます。  \n",
        "\n",
        "$$y = \\frac{1}{1+e^{-x}}$$ \n",
        "\n",
        "以下のコードは、シグモイド関数をグラフで描画します。"
      ]
    },
    {
      "cell_type": "markdown",
      "metadata": {
        "id": "XSia7Jov_JTP"
      },
      "source": [
        "#### 数式の練習用\n",
        "$$y = \\frac{1}{1+e^{-x}}$$"
      ]
    },
    {
      "cell_type": "code",
      "metadata": {
        "id": "3WXdSgtNxCpK"
      },
      "source": [
        "import numpy as np\n",
        "import matplotlib.pyplot as plt\n",
        "\n",
        "e = np.e  # ネイピア数\n",
        "\n",
        "def sigmoid(x):\n",
        "    s = 1 / (1 + e**-x)  # シグモイド関数\n",
        "    return s\n",
        "\n",
        "x = np.linspace(-5, 5)\n",
        "y_sig = sigmoid(x)\n",
        "\n",
        "plt.plot(x, y_sig)\n",
        "\n",
        "plt.xlabel(\"x\", size=14)\n",
        "plt.ylabel(\"y\", size=14)\n",
        "plt.grid()\n",
        "plt.show()"
      ],
      "execution_count": null,
      "outputs": []
    },
    {
      "cell_type": "code",
      "metadata": {
        "id": "1B5YRN5G_cUA",
        "colab": {
          "base_uri": "https://localhost:8080/",
          "height": 283
        },
        "outputId": "60bc9154-5d50-45c0-ed0d-9a642cd7157f"
      },
      "source": [
        "# コード練習用\n",
        "import numpy as np\n",
        "import matplotlib.pyplot as plt\n",
        "\n",
        "e = np.e #ネイピア数\n",
        "\n",
        "def sigmoid(x):\n",
        "    s = 1 / (1 + e**-x)\n",
        "    return s\n",
        "\n",
        "x = np.linspace(-5, 5)\n",
        "y_sig = sigmoid(x)\n",
        "\n",
        "plt.plot(x, y_sig)\n",
        "\n",
        "plt.xlabel(\"x\", size=14)\n",
        "plt.ylabel(\"y\", size=14)\n",
        "plt.grid()\n",
        "plt.show()"
      ],
      "execution_count": 1,
      "outputs": [
        {
          "output_type": "display_data",
          "data": {
            "image/png": "[encoded data removed]",
            "text/plain": [
              "<Figure size 432x288 with 1 Axes>"
            ]
          },
          "metadata": {
            "needs_background": "light"
          }
        }
      ]
    },
    {
      "cell_type": "markdown",
      "metadata": {
        "id": "51vIjjz2_fTE"
      },
      "source": [
        "## ● シグモイド関数の傾き\n",
        " シグモイド関数の曲線の傾きを求めます。  \n",
        " 以下のコードでは、  \n",
        " yの微小な変化 / xの微小な変化  \n",
        "すなわち傾きを求めてグラフで表示します。"
      ]
    },
    {
      "cell_type": "code",
      "metadata": {
        "id": "c6Q4SsEMsVLa"
      },
      "source": [
        "import numpy as np\n",
        "import matplotlib.pyplot as plt\n",
        "\n",
        "e = np.e  # ネイピア数\n",
        "\n",
        "def sigmoid(x):\n",
        "    s = 1 / (1 + e**-x)  # シグモイド関数\n",
        "    return s\n",
        "\n",
        "dx = 0.1\n",
        "x = np.linspace(-8, 8)\n",
        "y_sig = sigmoid(x)\n",
        "y_d = (sigmoid(x+dx) - sigmoid(x)) / dx  # シグモイド関数の傾き\n",
        "\n",
        "plt.plot(x, y_sig, label = \"sigmoid\")\n",
        "plt.plot(x, y_d, label = \"d_sigmoid\")\n",
        "plt.legend()\n",
        "\n",
        "plt.xlabel(\"x\", size=14)\n",
        "plt.ylabel(\"y\", size=14)\n",
        "plt.grid()\n",
        "plt.show()"
      ],
      "execution_count": null,
      "outputs": []
    },
    {
      "cell_type": "code",
      "metadata": {
        "id": "DPfyOeDpRrJj",
        "colab": {
          "base_uri": "https://localhost:8080/",
          "height": 283
        },
        "outputId": "3cd8c2ad-0f2d-43d1-a429-76f0397fe6e0"
      },
      "source": [
        "# コード練習用\n",
        "import numpy as np\n",
        "import matplotlib.pyplot as plt\n",
        "\n",
        "e = np.e\n",
        "\n",
        "def sigmoid(x):\n",
        "    s = 1 / (1 + e**-x)\n",
        "    return s\n",
        "\n",
        "dx = 0.1\n",
        "x = np.linspace(-8, 8)\n",
        "y_sig = sigmoid(x)\n",
        "y_d = (sigmoid(x + dx) - sigmoid(x)) / dx\n",
        "\n",
        "plt.plot(x, y_sig, label=\"sigmoid\")\n",
        "plt.plot(x, y_d, label=\"d_sigoid\")\n",
        "plt.legend()\n",
        "\n",
        "plt.xlabel(\"x\", size=14)\n",
        "plt.ylabel(\"y\", size=14)\n",
        "plt.grid()\n",
        "plt.show()"
      ],
      "execution_count": 1,
      "outputs": [
        {
          "output_type": "display_data",
          "data": {
            "image/png": "[encoded data removed]",
            "text/plain": [
              "<Figure size 432x288 with 1 Axes>"
            ]
          },
          "metadata": {
            "needs_background": "light"
          }
        }
      ]
    },
    {
      "cell_type": "markdown",
      "metadata": {
        "id": "5u0ou22uRuSR"
      },
      "source": [
        "## ● シグモイド関数を微分する\n",
        "曲線の傾きを表す関数を求めることを、**微分**する、といいます。  \n",
        "シグモイド関数$y$、およびそれを微分した関数$y'$は、次のように表されます。\n",
        "\n",
        "$$y = \\frac{1}{1+e^{-x}}$$ \n",
        "$$y' = y(1-y)$$ \n",
        "\n",
        "以下のコードでは、これらの式をグラフで表示します。\n"
      ]
    },
    {
      "cell_type": "markdown",
      "metadata": {
        "id": "qXTuo8WtVnAD"
      },
      "source": [
        "#### 数式の練習用\n",
        "$$y' = y(1 - y)$$"
      ]
    },
    {
      "cell_type": "code",
      "metadata": {
        "id": "qVrD4glgsVUX"
      },
      "source": [
        "import numpy as np\n",
        "import matplotlib.pyplot as plt\n",
        "\n",
        "e = np.e  # ネイピア数\n",
        "\n",
        "def sigmoid(x):\n",
        "    s = 1 / (1 + e**-x)  # シグモイド関数\n",
        "    return s\n",
        "\n",
        "def df_sigmoid(x):\n",
        "    d = sigmoid(x)*(1 - sigmoid(x))  # シグモイド関数を微分\n",
        "    return d\n",
        "\n",
        "dx = 0.1\n",
        "x = np.linspace(-8, 8)\n",
        "\n",
        "y_sig = sigmoid(x)\n",
        "y_d = (sigmoid(x+dx) - sigmoid(x)) / dx\n",
        "y_df = df_sigmoid(x)\n",
        "\n",
        "plt.plot(x, y_sig, label = \"sigmoid\")\n",
        "plt.plot(x, y_d, label = \"d\")\n",
        "plt.plot(x, y_df, label = \"df\")\n",
        "plt.legend()\n",
        "\n",
        "plt.xlabel(\"x\", size=14)\n",
        "plt.ylabel(\"y\", size=14)\n",
        "plt.grid()\n",
        "plt.show()"
      ],
      "execution_count": null,
      "outputs": []
    },
    {
      "cell_type": "code",
      "metadata": {
        "id": "Gn9sVAL8crLp",
        "colab": {
          "base_uri": "https://localhost:8080/",
          "height": 283
        },
        "outputId": "2ff9230b-f8a0-4a92-b375-4b2c429a79e1"
      },
      "source": [
        "# コード練習用\n",
        "import numpy as np\n",
        "import matplotlib.pyplot as plt\n",
        "\n",
        "e = np.e\n",
        "\n",
        "def sigmoid(x):\n",
        "    s = 1 / (1 + e**-x)\n",
        "    return s\n",
        "\n",
        "def df_sigmoid(x):\n",
        "    d = sigmoid(x)*(1 - sigmoid(x))\n",
        "    return d\n",
        "\n",
        "dx = 0.1\n",
        "x = np.linspace(-8, 8)\n",
        "\n",
        "y_sig = sigmoid(x)\n",
        "y_d = (sigmoid(x + dx) - sigmoid(x)) / dx\n",
        "y_df = df_sigmoid(x)\n",
        "\n",
        "plt.plot(x, y_sig, label=\"sigmoid\")\n",
        "plt.plot(x, y_d, label=\"d\")\n",
        "plt.plot(x, y_df, label=\"df\")\n",
        "plt.legend()\n",
        "\n",
        "plt.xlabel(\"x\", size=14)\n",
        "plt.ylabel(\"y\", size=14)\n",
        "plt.grid()\n",
        "plt.show()"
      ],
      "execution_count": 2,
      "outputs": [
        {
          "output_type": "display_data",
          "data": {
            "image/png": "[encoded data removed]",
            "text/plain": [
              "<Figure size 432x288 with 1 Axes>"
            ]
          },
          "metadata": {
            "needs_background": "light"
          }
        }
      ]
    }
  ]
}
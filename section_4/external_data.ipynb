{
  "nbformat": 4,
  "nbformat_minor": 0,
  "metadata": {
    "colab": {
      "name": "external_data.ipynb",
      "provenance": [],
      "collapsed_sections": [],
      "include_colab_link": true
    },
    "kernelspec": {
      "name": "python3",
      "display_name": "Python 3"
    }
  },
  "cells": [
    {
      "cell_type": "markdown",
      "metadata": {
        "id": "view-in-github",
        "colab_type": "text"
      },
      "source": [
        "<a href=\"https://colab.research.google.com/github/riin-saaan/riin_saaan.github.io/blob/main/section_4/external_data.ipynb\" target=\"_parent\"><img src=\"https://colab.research.google.com/assets/colab-badge.svg\" alt=\"Open In Colab\"/></a>"
      ]
    },
    {
      "cell_type": "markdown",
      "metadata": {
        "id": "q8VKWEYymLHP"
      },
      "source": [
        "# 外部データの導入\n",
        "外部から、花のサイズのデータを読み込みます。  \n",
        "単一ニューロンを使って、花の分類を行いましょう。  "
      ]
    },
    {
      "cell_type": "markdown",
      "metadata": {
        "id": "xZ_Ah4jbpW3b"
      },
      "source": [
        "## ● Iris datasetの導入\n",
        "scikit-learnというライブラリからIris datasetを導入します。  \n",
        "Iris datasetは、150個、3品種のIrisの花のサイズからなるデータセットです。  \n",
        "今回は、この中の2品種、SetosaとVersicolorのがく（Sepal）の長さと幅を使います。  "
      ]
    },
    {
      "cell_type": "code",
      "metadata": {
        "id": "Ln7D1pxbr8Hc",
        "colab": {
          "base_uri": "https://localhost:8080/",
          "height": 1000
        },
        "outputId": "82e7ce5e-cc22-4c4f-da27-6ee45eff951b"
      },
      "source": [
        "import numpy as np\n",
        "import matplotlib.pyplot as plt\n",
        "from sklearn import datasets\n",
        "\n",
        "# Irisデータの読み込み\n",
        "iris = datasets.load_iris()\n",
        "\n",
        "# 各花のサイズ\n",
        "iris_data = iris.data\n",
        "print(iris_data)\n",
        "print(iris_data.shape)  # 形状\n",
        "\n",
        "# 散布図で表示\n",
        "st_data = iris_data[:50]  # Setosa\n",
        "vc_data = iris_data[50:100]  # Versicolor\n",
        "plt.scatter(st_data[:, 0], st_data[:, 1], label=\"Setosa\")  # Sepal lengthとSepal width\n",
        "plt.scatter(vc_data[:, 0], vc_data[:, 1], label=\"Versicolor\")  # Sepal lengthとSepal width\n",
        "plt.legend()\n",
        "\n",
        "plt.xlabel(\"Sepal length (cm)\")\n",
        "plt.ylabel(\"Sepal width (cm)\")\n",
        "plt.show()"
      ],
      "execution_count": 10,
      "outputs": [
        {
          "output_type": "stream",
          "name": "stdout",
          "text": [
            "[[5.1 3.5 1.4 0.2]\n",
            " [4.9 3.  1.4 0.2]\n",
            " [4.7 3.2 1.3 0.2]\n",
            " [4.6 3.1 1.5 0.2]\n",
            " [5.  3.6 1.4 0.2]\n",
            " [5.4 3.9 1.7 0.4]\n",
            " [4.6 3.4 1.4 0.3]\n",
            " [5.  3.4 1.5 0.2]\n",
            " [4.4 2.9 1.4 0.2]\n",
            " [4.9 3.1 1.5 0.1]\n",
            " [5.4 3.7 1.5 0.2]\n",
            " [4.8 3.4 1.6 0.2]\n",
            " [4.8 3.  1.4 0.1]\n",
            " [4.3 3.  1.1 0.1]\n",
            " [5.8 4.  1.2 0.2]\n",
            " [5.7 4.4 1.5 0.4]\n",
            " [5.4 3.9 1.3 0.4]\n",
            " [5.1 3.5 1.4 0.3]\n",
            " [5.7 3.8 1.7 0.3]\n",
            " [5.1 3.8 1.5 0.3]\n",
            " [5.4 3.4 1.7 0.2]\n",
            " [5.1 3.7 1.5 0.4]\n",
            " [4.6 3.6 1.  0.2]\n",
            " [5.1 3.3 1.7 0.5]\n",
            " [4.8 3.4 1.9 0.2]\n",
            " [5.  3.  1.6 0.2]\n",
            " [5.  3.4 1.6 0.4]\n",
            " [5.2 3.5 1.5 0.2]\n",
            " [5.2 3.4 1.4 0.2]\n",
            " [4.7 3.2 1.6 0.2]\n",
            " [4.8 3.1 1.6 0.2]\n",
            " [5.4 3.4 1.5 0.4]\n",
            " [5.2 4.1 1.5 0.1]\n",
            " [5.5 4.2 1.4 0.2]\n",
            " [4.9 3.1 1.5 0.2]\n",
            " [5.  3.2 1.2 0.2]\n",
            " [5.5 3.5 1.3 0.2]\n",
            " [4.9 3.6 1.4 0.1]\n",
            " [4.4 3.  1.3 0.2]\n",
            " [5.1 3.4 1.5 0.2]\n",
            " [5.  3.5 1.3 0.3]\n",
            " [4.5 2.3 1.3 0.3]\n",
            " [4.4 3.2 1.3 0.2]\n",
            " [5.  3.5 1.6 0.6]\n",
            " [5.1 3.8 1.9 0.4]\n",
            " [4.8 3.  1.4 0.3]\n",
            " [5.1 3.8 1.6 0.2]\n",
            " [4.6 3.2 1.4 0.2]\n",
            " [5.3 3.7 1.5 0.2]\n",
            " [5.  3.3 1.4 0.2]\n",
            " [7.  3.2 4.7 1.4]\n",
            " [6.4 3.2 4.5 1.5]\n",
            " [6.9 3.1 4.9 1.5]\n",
            " [5.5 2.3 4.  1.3]\n",
            " [6.5 2.8 4.6 1.5]\n",
            " [5.7 2.8 4.5 1.3]\n",
            " [6.3 3.3 4.7 1.6]\n",
            " [4.9 2.4 3.3 1. ]\n",
            " [6.6 2.9 4.6 1.3]\n",
            " [5.2 2.7 3.9 1.4]\n",
            " [5.  2.  3.5 1. ]\n",
            " [5.9 3.  4.2 1.5]\n",
            " [6.  2.2 4.  1. ]\n",
            " [6.1 2.9 4.7 1.4]\n",
            " [5.6 2.9 3.6 1.3]\n",
            " [6.7 3.1 4.4 1.4]\n",
            " [5.6 3.  4.5 1.5]\n",
            " [5.8 2.7 4.1 1. ]\n",
            " [6.2 2.2 4.5 1.5]\n",
            " [5.6 2.5 3.9 1.1]\n",
            " [5.9 3.2 4.8 1.8]\n",
            " [6.1 2.8 4.  1.3]\n",
            " [6.3 2.5 4.9 1.5]\n",
            " [6.1 2.8 4.7 1.2]\n",
            " [6.4 2.9 4.3 1.3]\n",
            " [6.6 3.  4.4 1.4]\n",
            " [6.8 2.8 4.8 1.4]\n",
            " [6.7 3.  5.  1.7]\n",
            " [6.  2.9 4.5 1.5]\n",
            " [5.7 2.6 3.5 1. ]\n",
            " [5.5 2.4 3.8 1.1]\n",
            " [5.5 2.4 3.7 1. ]\n",
            " [5.8 2.7 3.9 1.2]\n",
            " [6.  2.7 5.1 1.6]\n",
            " [5.4 3.  4.5 1.5]\n",
            " [6.  3.4 4.5 1.6]\n",
            " [6.7 3.1 4.7 1.5]\n",
            " [6.3 2.3 4.4 1.3]\n",
            " [5.6 3.  4.1 1.3]\n",
            " [5.5 2.5 4.  1.3]\n",
            " [5.5 2.6 4.4 1.2]\n",
            " [6.1 3.  4.6 1.4]\n",
            " [5.8 2.6 4.  1.2]\n",
            " [5.  2.3 3.3 1. ]\n",
            " [5.6 2.7 4.2 1.3]\n",
            " [5.7 3.  4.2 1.2]\n",
            " [5.7 2.9 4.2 1.3]\n",
            " [6.2 2.9 4.3 1.3]\n",
            " [5.1 2.5 3.  1.1]\n",
            " [5.7 2.8 4.1 1.3]\n",
            " [6.3 3.3 6.  2.5]\n",
            " [5.8 2.7 5.1 1.9]\n",
            " [7.1 3.  5.9 2.1]\n",
            " [6.3 2.9 5.6 1.8]\n",
            " [6.5 3.  5.8 2.2]\n",
            " [7.6 3.  6.6 2.1]\n",
            " [4.9 2.5 4.5 1.7]\n",
            " [7.3 2.9 6.3 1.8]\n",
            " [6.7 2.5 5.8 1.8]\n",
            " [7.2 3.6 6.1 2.5]\n",
            " [6.5 3.2 5.1 2. ]\n",
            " [6.4 2.7 5.3 1.9]\n",
            " [6.8 3.  5.5 2.1]\n",
            " [5.7 2.5 5.  2. ]\n",
            " [5.8 2.8 5.1 2.4]\n",
            " [6.4 3.2 5.3 2.3]\n",
            " [6.5 3.  5.5 1.8]\n",
            " [7.7 3.8 6.7 2.2]\n",
            " [7.7 2.6 6.9 2.3]\n",
            " [6.  2.2 5.  1.5]\n",
            " [6.9 3.2 5.7 2.3]\n",
            " [5.6 2.8 4.9 2. ]\n",
            " [7.7 2.8 6.7 2. ]\n",
            " [6.3 2.7 4.9 1.8]\n",
            " [6.7 3.3 5.7 2.1]\n",
            " [7.2 3.2 6.  1.8]\n",
            " [6.2 2.8 4.8 1.8]\n",
            " [6.1 3.  4.9 1.8]\n",
            " [6.4 2.8 5.6 2.1]\n",
            " [7.2 3.  5.8 1.6]\n",
            " [7.4 2.8 6.1 1.9]\n",
            " [7.9 3.8 6.4 2. ]\n",
            " [6.4 2.8 5.6 2.2]\n",
            " [6.3 2.8 5.1 1.5]\n",
            " [6.1 2.6 5.6 1.4]\n",
            " [7.7 3.  6.1 2.3]\n",
            " [6.3 3.4 5.6 2.4]\n",
            " [6.4 3.1 5.5 1.8]\n",
            " [6.  3.  4.8 1.8]\n",
            " [6.9 3.1 5.4 2.1]\n",
            " [6.7 3.1 5.6 2.4]\n",
            " [6.9 3.1 5.1 2.3]\n",
            " [5.8 2.7 5.1 1.9]\n",
            " [6.8 3.2 5.9 2.3]\n",
            " [6.7 3.3 5.7 2.5]\n",
            " [6.7 3.  5.2 2.3]\n",
            " [6.3 2.5 5.  1.9]\n",
            " [6.5 3.  5.2 2. ]\n",
            " [6.2 3.4 5.4 2.3]\n",
            " [5.9 3.  5.1 1.8]]\n",
            "(150, 4)\n"
          ]
        },
        {
          "output_type": "display_data",
          "data": {
            "image/png": "[encoded data removed]",
            "text/plain": [
              "<Figure size 432x288 with 1 Axes>"
            ]
          },
          "metadata": {
            "needs_background": "light"
          }
        }
      ]
    },
    {
      "cell_type": "code",
      "metadata": {
        "id": "CgNNnb_Jvwot",
        "colab": {
          "base_uri": "https://localhost:8080/",
          "height": 286
        },
        "outputId": "c8839a17-66b7-4793-ede1-6665871028f6"
      },
      "source": [
        "# コードの練習用\n",
        "import numpy as np\n",
        "import matplotlib.pyplot as plt\n",
        "from sklearn import datasets\n",
        "\n",
        "iris = datasets.load_iris()\n",
        "\n",
        "iris_data = iris.data\n",
        "# print(iris_data)\n",
        "# print(iris_data.shape) #形状\n",
        "\n",
        "st_data = iris_data[:50]\n",
        "vc_data = iris_data[50:100]\n",
        "plt.scatter(st_data[:,0], st_data[:,1], label=\"Setosa\")\n",
        "plt.scatter(vc_data[:,0], vc_data[:,1], label=\"Versicolor\")\n",
        "plt.legend()\n",
        "\n",
        "plt.xlabel(\"Sepal length (cm)\", size=14)\n",
        "plt.ylabel(\"Sepal width (cm)\", size=14)\n",
        "plt.show()"
      ],
      "execution_count": 5,
      "outputs": [
        {
          "output_type": "display_data",
          "data": {
            "image/png": "[encoded data removed]",
            "text/plain": [
              "<Figure size 432x288 with 1 Axes>"
            ]
          },
          "metadata": {
            "needs_background": "light"
          }
        }
      ]
    },
    {
      "cell_type": "markdown",
      "metadata": {
        "id": "Q-goGGeCpWFC"
      },
      "source": [
        "## ● 単一ニューロンによる分類\n",
        "単一ニューロンからなるニューラルネットワークを使って、Irisの花を2品種に分類します。  \n",
        "ニューラルネットワークの入力は偏りが無い方が望ましいため、花のサイズから平均値を引いて入力とします。  \n",
        "分類結果を散布図で表示しますが、比較のために元の分類も並べて表示します。  "
      ]
    },
    {
      "cell_type": "code",
      "metadata": {
        "id": "IViI2u-4iQZ3",
        "colab": {
          "base_uri": "https://localhost:8080/",
          "height": 573
        },
        "outputId": "b1f99c96-7d07-4d21-9d2e-fcf57725316f"
      },
      "source": [
        "# 花(iris)の品種分類プログラム\n",
        "import numpy as np\n",
        "import matplotlib.pyplot as plt\n",
        "from sklearn import datasets\n",
        "\n",
        "iris = datasets.load_iris()\n",
        "iris_data = iris.data\n",
        "sl_data = iris_data[:100, 0]\n",
        "sw_data = iris_data[:100, 1]\n",
        "\n",
        "#平均値0\n",
        "sl_ave = np.average(sl_data)\n",
        "sl_data -= sl_ave\n",
        "sw_ave = np.average(sw_data)\n",
        "sw_data -= sw_ave\n",
        "\n",
        "#入力リスト格納\n",
        "input_data = []\n",
        "for i in range(100):\n",
        "    input_data.append([sl_data[i], sw_data[i]])\n",
        "\n",
        "def sigmoid(x):\n",
        "    return 1.0 / (1.0 + np.exp(-x))\n",
        "\n",
        "class Neuron:\n",
        "    def __init__(self):\n",
        "        self.input_sum = 0.0\n",
        "        self.output = 0.0\n",
        "\n",
        "    def set_input(self, inp):\n",
        "        self.input_sum += inp\n",
        "    \n",
        "    def get_output(self):\n",
        "        self.output = sigmoid(self.input_sum)\n",
        "        return self.output\n",
        "\n",
        "    def reset(self):\n",
        "        self.input_sum = 0\n",
        "        self.output = 0\n",
        "\n",
        "class NeuralNetwork:\n",
        "    def __init__(self):\n",
        "        self.neuron = Neuron() \n",
        "        self.w = [0.5, -0.2]\n",
        "        self.bias = 0.0\n",
        "\n",
        "    def commit(self, input_data):\n",
        "        self.neuron.reset()\n",
        "        self.neuron.set_input(input_data[0] * self.w[0])\n",
        "        self.neuron.set_input(input_data[1] * self.w[1])\n",
        "        self.neuron.set_input(self.bias)\n",
        "        return self.neuron.get_output()\n",
        "\n",
        "neural_network = NeuralNetwork()\n",
        "\n",
        "st_predicted = [[], []] #setosa\n",
        "vc_predicted = [[], []] #versicolor\n",
        "for data in input_data:\n",
        "    if neural_network.commit(data) < 0.5:\n",
        "        st_predicted[0].append(data[0] + sl_ave)\n",
        "        st_predicted[1].append(data[1] + sw_ave)\n",
        "    else:\n",
        "        vc_predicted[0].append(data[0] + sl_ave)\n",
        "        vc_predicted[1].append(data[1] + sw_ave)\n",
        "\n",
        "plt.scatter(st_predicted[0], st_predicted[1], label=\"Setosa\")\n",
        "plt.scatter(vc_predicted[0], vc_predicted[1], label=\"Versicolor\")\n",
        "plt.legend()\n",
        "\n",
        "plt.xlabel(\"Sepal length (cm)\")\n",
        "plt.ylabel(\"Sepal width (cm)\")\n",
        "plt.title(\"Predicted\")\n",
        "plt.show()\n",
        "\n",
        "#比較用(元の散布図)\n",
        "\n",
        "st_data = iris_data[:50] #setosa\n",
        "vc_data = iris_data[50:100] #versicolor\n",
        "plt.scatter(st_data[:, 0], st_data[:, 1], label=\"Setosa\")\n",
        "plt.scatter(vc_data[:, 0], vc_data[:, 1], label=\"Versicolor\")\n",
        "plt.legend()\n",
        "\n",
        "plt.xlabel(\"Sepal length (cm)\")\n",
        "plt.ylabel(\"Sepal width (cm)\")\n",
        "plt.title(\"Original\")\n",
        "plt.show()"
      ],
      "execution_count": 30,
      "outputs": [
        {
          "output_type": "display_data",
          "data": {
            "image/png": "[encoded data removed]",
            "text/plain": [
              "<Figure size 432x288 with 1 Axes>"
            ]
          },
          "metadata": {
            "needs_background": "light"
          }
        },
        {
          "output_type": "display_data",
          "data": {
            "image/png": "[encoded data removed]",
            "text/plain": [
              "<Figure size 432x288 with 1 Axes>"
            ]
          },
          "metadata": {
            "needs_background": "light"
          }
        }
      ]
    }
  ]
}